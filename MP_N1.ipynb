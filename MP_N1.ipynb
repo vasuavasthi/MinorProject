{
 "cells": [
  {
   "cell_type": "code",
   "execution_count": 1,
   "id": "b582d23f-f80b-4d83-a008-a00160621003",
   "metadata": {},
   "outputs": [],
   "source": [
    "import warnings\n",
    "warnings.filterwarnings(\"always\")\n",
    "warnings.filterwarnings(\"ignore\")\n",
    "import pandas as pd\n",
    "import numpy as np\n",
    "import matplotlib.pyplot as plt\n",
    "import seaborn as sns"
   ]
  },
  {
   "cell_type": "code",
   "execution_count": 2,
   "id": "218b150f-11a8-4af9-b1b8-661f4e9a6582",
   "metadata": {},
   "outputs": [],
   "source": [
    "df=pd.read_csv(\"F:/Minor project dataset/Datasets/LoanExport.csv\")"
   ]
  },
  {
   "cell_type": "code",
   "execution_count": 3,
   "id": "56f9ad06-f516-414b-8e6a-25b22b60bf18",
   "metadata": {},
   "outputs": [
    {
     "data": {
      "text/html": [
       "<div>\n",
       "<style scoped>\n",
       "    .dataframe tbody tr th:only-of-type {\n",
       "        vertical-align: middle;\n",
       "    }\n",
       "\n",
       "    .dataframe tbody tr th {\n",
       "        vertical-align: top;\n",
       "    }\n",
       "\n",
       "    .dataframe thead th {\n",
       "        text-align: right;\n",
       "    }\n",
       "</style>\n",
       "<table border=\"1\" class=\"dataframe\">\n",
       "  <thead>\n",
       "    <tr style=\"text-align: right;\">\n",
       "      <th></th>\n",
       "      <th>CreditScore</th>\n",
       "      <th>FirstPaymentDate</th>\n",
       "      <th>FirstTimeHomebuyer</th>\n",
       "      <th>MaturityDate</th>\n",
       "      <th>MSA</th>\n",
       "      <th>MIP</th>\n",
       "      <th>Units</th>\n",
       "      <th>Occupancy</th>\n",
       "      <th>OCLTV</th>\n",
       "      <th>DTI</th>\n",
       "      <th>...</th>\n",
       "      <th>PostalCode</th>\n",
       "      <th>LoanSeqNum</th>\n",
       "      <th>LoanPurpose</th>\n",
       "      <th>OrigLoanTerm</th>\n",
       "      <th>NumBorrowers</th>\n",
       "      <th>SellerName</th>\n",
       "      <th>ServicerName</th>\n",
       "      <th>EverDelinquent</th>\n",
       "      <th>MonthsDelinquent</th>\n",
       "      <th>MonthsInRepayment</th>\n",
       "    </tr>\n",
       "  </thead>\n",
       "  <tbody>\n",
       "    <tr>\n",
       "      <th>0</th>\n",
       "      <td>0</td>\n",
       "      <td>199902</td>\n",
       "      <td>N</td>\n",
       "      <td>202901</td>\n",
       "      <td>16974</td>\n",
       "      <td>25</td>\n",
       "      <td>1</td>\n",
       "      <td>O</td>\n",
       "      <td>89</td>\n",
       "      <td>27</td>\n",
       "      <td>...</td>\n",
       "      <td>60400</td>\n",
       "      <td>F199Q1268030</td>\n",
       "      <td>P</td>\n",
       "      <td>360</td>\n",
       "      <td>2</td>\n",
       "      <td>FL</td>\n",
       "      <td>WASHINGTONMUTUALBANK</td>\n",
       "      <td>0</td>\n",
       "      <td>0</td>\n",
       "      <td>52</td>\n",
       "    </tr>\n",
       "    <tr>\n",
       "      <th>1</th>\n",
       "      <td>0</td>\n",
       "      <td>199902</td>\n",
       "      <td>N</td>\n",
       "      <td>202901</td>\n",
       "      <td>19740</td>\n",
       "      <td>0</td>\n",
       "      <td>1</td>\n",
       "      <td>O</td>\n",
       "      <td>73</td>\n",
       "      <td>17</td>\n",
       "      <td>...</td>\n",
       "      <td>80200</td>\n",
       "      <td>F199Q1015092</td>\n",
       "      <td>N</td>\n",
       "      <td>360</td>\n",
       "      <td>1</td>\n",
       "      <td>FT</td>\n",
       "      <td>CHASEHOMEFINANCELLC</td>\n",
       "      <td>0</td>\n",
       "      <td>0</td>\n",
       "      <td>144</td>\n",
       "    </tr>\n",
       "    <tr>\n",
       "      <th>2</th>\n",
       "      <td>0</td>\n",
       "      <td>199902</td>\n",
       "      <td>N</td>\n",
       "      <td>202901</td>\n",
       "      <td>29940</td>\n",
       "      <td>0</td>\n",
       "      <td>1</td>\n",
       "      <td>O</td>\n",
       "      <td>75</td>\n",
       "      <td>16</td>\n",
       "      <td>...</td>\n",
       "      <td>66000</td>\n",
       "      <td>F199Q1266886</td>\n",
       "      <td>N</td>\n",
       "      <td>360</td>\n",
       "      <td>2</td>\n",
       "      <td>FL</td>\n",
       "      <td>WASHINGTONMUTUALBANK</td>\n",
       "      <td>0</td>\n",
       "      <td>0</td>\n",
       "      <td>67</td>\n",
       "    </tr>\n",
       "    <tr>\n",
       "      <th>3</th>\n",
       "      <td>0</td>\n",
       "      <td>199902</td>\n",
       "      <td>N</td>\n",
       "      <td>202901</td>\n",
       "      <td>31084</td>\n",
       "      <td>0</td>\n",
       "      <td>1</td>\n",
       "      <td>O</td>\n",
       "      <td>76</td>\n",
       "      <td>14</td>\n",
       "      <td>...</td>\n",
       "      <td>90700</td>\n",
       "      <td>F199Q1178167</td>\n",
       "      <td>N</td>\n",
       "      <td>360</td>\n",
       "      <td>2</td>\n",
       "      <td>GM</td>\n",
       "      <td>GMACMTGECORP</td>\n",
       "      <td>0</td>\n",
       "      <td>0</td>\n",
       "      <td>35</td>\n",
       "    </tr>\n",
       "    <tr>\n",
       "      <th>4</th>\n",
       "      <td>0</td>\n",
       "      <td>199902</td>\n",
       "      <td>N</td>\n",
       "      <td>202901</td>\n",
       "      <td>35644</td>\n",
       "      <td>0</td>\n",
       "      <td>1</td>\n",
       "      <td>O</td>\n",
       "      <td>78</td>\n",
       "      <td>18</td>\n",
       "      <td>...</td>\n",
       "      <td>7600</td>\n",
       "      <td>F199Q1178517</td>\n",
       "      <td>N</td>\n",
       "      <td>360</td>\n",
       "      <td>2</td>\n",
       "      <td>GM</td>\n",
       "      <td>GMACMTGECORP</td>\n",
       "      <td>0</td>\n",
       "      <td>0</td>\n",
       "      <td>54</td>\n",
       "    </tr>\n",
       "  </tbody>\n",
       "</table>\n",
       "<p>5 rows × 28 columns</p>\n",
       "</div>"
      ],
      "text/plain": [
       "   CreditScore  FirstPaymentDate FirstTimeHomebuyer  MaturityDate    MSA  MIP  \\\n",
       "0            0            199902                  N        202901  16974   25   \n",
       "1            0            199902                  N        202901  19740    0   \n",
       "2            0            199902                  N        202901  29940    0   \n",
       "3            0            199902                  N        202901  31084    0   \n",
       "4            0            199902                  N        202901  35644    0   \n",
       "\n",
       "   Units Occupancy  OCLTV  DTI  ...  PostalCode    LoanSeqNum  LoanPurpose  \\\n",
       "0      1         O     89   27  ...       60400  F199Q1268030            P   \n",
       "1      1         O     73   17  ...       80200  F199Q1015092            N   \n",
       "2      1         O     75   16  ...       66000  F199Q1266886            N   \n",
       "3      1         O     76   14  ...       90700  F199Q1178167            N   \n",
       "4      1         O     78   18  ...        7600  F199Q1178517            N   \n",
       "\n",
       "  OrigLoanTerm NumBorrowers SellerName          ServicerName EverDelinquent  \\\n",
       "0          360            2         FL  WASHINGTONMUTUALBANK              0   \n",
       "1          360            1         FT  CHASEHOMEFINANCELLC               0   \n",
       "2          360            2         FL  WASHINGTONMUTUALBANK              0   \n",
       "3          360            2         GM  GMACMTGECORP                      0   \n",
       "4          360            2         GM  GMACMTGECORP                      0   \n",
       "\n",
       "  MonthsDelinquent MonthsInRepayment  \n",
       "0                0                52  \n",
       "1                0               144  \n",
       "2                0                67  \n",
       "3                0                35  \n",
       "4                0                54  \n",
       "\n",
       "[5 rows x 28 columns]"
      ]
     },
     "execution_count": 3,
     "metadata": {},
     "output_type": "execute_result"
    }
   ],
   "source": [
    "df.head()"
   ]
  },
  {
   "cell_type": "code",
   "execution_count": 4,
   "id": "11c32598-8095-495a-8239-b7dda2ba37d5",
   "metadata": {},
   "outputs": [
    {
     "name": "stdout",
     "output_type": "stream",
     "text": [
      "<class 'pandas.core.frame.DataFrame'>\n",
      "RangeIndex: 291451 entries, 0 to 291450\n",
      "Data columns (total 28 columns):\n",
      " #   Column              Non-Null Count   Dtype  \n",
      "---  ------              --------------   -----  \n",
      " 0   CreditScore         291451 non-null  int64  \n",
      " 1   FirstPaymentDate    291451 non-null  int64  \n",
      " 2   FirstTimeHomebuyer  291451 non-null  object \n",
      " 3   MaturityDate        291451 non-null  int64  \n",
      " 4   MSA                 291451 non-null  object \n",
      " 5   MIP                 291451 non-null  int64  \n",
      " 6   Units               291451 non-null  int64  \n",
      " 7   Occupancy           291451 non-null  object \n",
      " 8   OCLTV               291451 non-null  int64  \n",
      " 9   DTI                 291451 non-null  int64  \n",
      " 10  OrigUPB             291451 non-null  int64  \n",
      " 11  LTV                 291451 non-null  int64  \n",
      " 12  OrigInterestRate    291451 non-null  float64\n",
      " 13  Channel             291451 non-null  object \n",
      " 14  PPM                 291451 non-null  object \n",
      " 15  ProductType         291451 non-null  object \n",
      " 16  PropertyState       291451 non-null  object \n",
      " 17  PropertyType        291451 non-null  object \n",
      " 18  PostalCode          291451 non-null  object \n",
      " 19  LoanSeqNum          291451 non-null  object \n",
      " 20  LoanPurpose         291451 non-null  object \n",
      " 21  OrigLoanTerm        291451 non-null  int64  \n",
      " 22  NumBorrowers        291451 non-null  object \n",
      " 23  SellerName          266457 non-null  object \n",
      " 24  ServicerName        291451 non-null  object \n",
      " 25  EverDelinquent      291451 non-null  int64  \n",
      " 26  MonthsDelinquent    291451 non-null  int64  \n",
      " 27  MonthsInRepayment   291451 non-null  int64  \n",
      "dtypes: float64(1), int64(13), object(14)\n",
      "memory usage: 62.3+ MB\n"
     ]
    }
   ],
   "source": [
    "df.info()"
   ]
  },
  {
   "cell_type": "code",
   "execution_count": 5,
   "id": "a5fed4d0-dd77-4fcf-8f0f-11c91cbf328f",
   "metadata": {},
   "outputs": [
    {
     "data": {
      "text/plain": [
       "dtype('int64')"
      ]
     },
     "execution_count": 5,
     "metadata": {},
     "output_type": "execute_result"
    }
   ],
   "source": [
    "df['FirstPaymentDate'].dtype"
   ]
  },
  {
   "cell_type": "code",
   "execution_count": 6,
   "id": "f5ded523-16c3-4afb-98d9-b430b512d4a0",
   "metadata": {},
   "outputs": [
    {
     "name": "stdout",
     "output_type": "stream",
     "text": [
      "0    1999-02\n",
      "1    1999-02\n",
      "2    1999-02\n",
      "3    1999-02\n",
      "4    1999-02\n",
      "Name: FirstPaymentDate, dtype: object\n",
      "291446    1999-03\n",
      "291447    2002-10\n",
      "291448    2003-04\n",
      "291449    1999-04\n",
      "291450    1999-03\n",
      "Name: FirstPaymentDate, dtype: object\n"
     ]
    }
   ],
   "source": [
    "df['FirstPaymentDate']=df['FirstPaymentDate'].apply(lambda x: str(x)[:4]+'-'+str(x)[4:])\n",
    "print(df['FirstPaymentDate'].head())\n",
    "print(df['FirstPaymentDate'].tail())"
   ]
  },
  {
   "cell_type": "code",
   "execution_count": 7,
   "id": "4e2f6a18-a91f-48ab-a499-959c26744f5b",
   "metadata": {},
   "outputs": [
    {
     "data": {
      "text/plain": [
       "0         1999\n",
       "1         1999\n",
       "2         1999\n",
       "3         1999\n",
       "4         1999\n",
       "          ... \n",
       "291446    1999\n",
       "291447    2002\n",
       "291448    2003\n",
       "291449    1999\n",
       "291450    1999\n",
       "Name: FirstPaymentYear, Length: 291451, dtype: object"
      ]
     },
     "execution_count": 7,
     "metadata": {},
     "output_type": "execute_result"
    }
   ],
   "source": [
    "df['FirstPaymentYear']=df['FirstPaymentDate'].apply(lambda x: str(x)[:4])\n",
    "df['FirstPaymentYear']"
   ]
  },
  {
   "cell_type": "code",
   "execution_count": 8,
   "id": "e1e6b029-fa3c-43a6-9faa-2307434a592b",
   "metadata": {},
   "outputs": [
    {
     "data": {
      "text/plain": [
       "0         02\n",
       "1         02\n",
       "2         02\n",
       "3         02\n",
       "4         02\n",
       "          ..\n",
       "291446    03\n",
       "291447    10\n",
       "291448    04\n",
       "291449    04\n",
       "291450    03\n",
       "Name: FirstPaymentMonth, Length: 291451, dtype: object"
      ]
     },
     "execution_count": 8,
     "metadata": {},
     "output_type": "execute_result"
    }
   ],
   "source": [
    "df['FirstPaymentMonth']=df['FirstPaymentDate'].apply(lambda x: str(x)[5:])\n",
    "df['FirstPaymentMonth']"
   ]
  },
  {
   "cell_type": "code",
   "execution_count": 9,
   "id": "807cfb88-5959-4399-b709-2d0cfd191dfe",
   "metadata": {},
   "outputs": [
    {
     "name": "stdout",
     "output_type": "stream",
     "text": [
      "object\n",
      "object\n"
     ]
    }
   ],
   "source": [
    "print(df['FirstPaymentYear'].dtype)\n",
    "print(df['FirstPaymentMonth'].dtype)"
   ]
  },
  {
   "cell_type": "code",
   "execution_count": 10,
   "id": "6c21849c-dbbf-41ba-8079-a0867346e9b0",
   "metadata": {},
   "outputs": [
    {
     "data": {
      "text/plain": [
       "291446   1999-03-01\n",
       "291447   2002-10-01\n",
       "291448   2003-04-01\n",
       "291449   1999-04-01\n",
       "291450   1999-03-01\n",
       "Name: C_FirstPaymentDate, dtype: datetime64[ns]"
      ]
     },
     "execution_count": 10,
     "metadata": {},
     "output_type": "execute_result"
    }
   ],
   "source": [
    "df['C_FirstPaymentDate']=pd.to_datetime(df['FirstPaymentDate'],format=\"%Y-%m\")\n",
    "df['C_FirstPaymentDate'].tail()"
   ]
  },
  {
   "cell_type": "code",
   "execution_count": 11,
   "id": "019f58f1-4c4f-433c-9dc6-788fd64e0721",
   "metadata": {},
   "outputs": [
    {
     "data": {
      "text/plain": [
       "dtype('int64')"
      ]
     },
     "execution_count": 11,
     "metadata": {},
     "output_type": "execute_result"
    }
   ],
   "source": [
    "df[\"MaturityDate\"].dtype"
   ]
  },
  {
   "cell_type": "code",
   "execution_count": 12,
   "id": "1f398e99-ec76-444b-af41-c979945e12e1",
   "metadata": {},
   "outputs": [
    {
     "data": {
      "text/plain": [
       "291446    202902\n",
       "291447    202904\n",
       "291448    202904\n",
       "291449    202903\n",
       "291450    202902\n",
       "Name: MaturityDate, dtype: int64"
      ]
     },
     "execution_count": 12,
     "metadata": {},
     "output_type": "execute_result"
    }
   ],
   "source": [
    "df[\"MaturityDate\"].tail()"
   ]
  },
  {
   "cell_type": "code",
   "execution_count": 13,
   "id": "4cf29a19-3702-4bb9-8162-394135edfa87",
   "metadata": {},
   "outputs": [],
   "source": [
    "df[\"Maturity_Year\"]=df[\"MaturityDate\"].apply(lambda x:str(x)[:4])\n",
    "df[\"Maturity_Month\"]=df[\"MaturityDate\"].apply(lambda x:str(x)[4:])"
   ]
  },
  {
   "cell_type": "code",
   "execution_count": 14,
   "id": "149def09-6da4-40b3-b9ac-f42a8aabf1ed",
   "metadata": {},
   "outputs": [
    {
     "data": {
      "text/plain": [
       "291446   2029-02-01\n",
       "291447   2029-04-01\n",
       "291448   2029-04-01\n",
       "291449   2029-03-01\n",
       "291450   2029-02-01\n",
       "Name: C_MaturityDate, dtype: datetime64[ns]"
      ]
     },
     "execution_count": 14,
     "metadata": {},
     "output_type": "execute_result"
    }
   ],
   "source": [
    "df[\"C_MaturityDate\"]=pd.to_datetime(df[\"MaturityDate\"],format=\"%Y%m\")\n",
    "df[\"C_MaturityDate\"].tail()"
   ]
  },
  {
   "cell_type": "code",
   "execution_count": 15,
   "id": "a4146dd1-ce0f-4b91-84e2-e12bb6612a09",
   "metadata": {},
   "outputs": [
    {
     "name": "stdout",
     "output_type": "stream",
     "text": [
      "<class 'pandas.core.frame.DataFrame'>\n",
      "RangeIndex: 291451 entries, 0 to 291450\n",
      "Data columns (total 34 columns):\n",
      " #   Column              Non-Null Count   Dtype         \n",
      "---  ------              --------------   -----         \n",
      " 0   CreditScore         291451 non-null  int64         \n",
      " 1   FirstPaymentDate    291451 non-null  object        \n",
      " 2   FirstTimeHomebuyer  291451 non-null  object        \n",
      " 3   MaturityDate        291451 non-null  int64         \n",
      " 4   MSA                 291451 non-null  object        \n",
      " 5   MIP                 291451 non-null  int64         \n",
      " 6   Units               291451 non-null  int64         \n",
      " 7   Occupancy           291451 non-null  object        \n",
      " 8   OCLTV               291451 non-null  int64         \n",
      " 9   DTI                 291451 non-null  int64         \n",
      " 10  OrigUPB             291451 non-null  int64         \n",
      " 11  LTV                 291451 non-null  int64         \n",
      " 12  OrigInterestRate    291451 non-null  float64       \n",
      " 13  Channel             291451 non-null  object        \n",
      " 14  PPM                 291451 non-null  object        \n",
      " 15  ProductType         291451 non-null  object        \n",
      " 16  PropertyState       291451 non-null  object        \n",
      " 17  PropertyType        291451 non-null  object        \n",
      " 18  PostalCode          291451 non-null  object        \n",
      " 19  LoanSeqNum          291451 non-null  object        \n",
      " 20  LoanPurpose         291451 non-null  object        \n",
      " 21  OrigLoanTerm        291451 non-null  int64         \n",
      " 22  NumBorrowers        291451 non-null  object        \n",
      " 23  SellerName          266457 non-null  object        \n",
      " 24  ServicerName        291451 non-null  object        \n",
      " 25  EverDelinquent      291451 non-null  int64         \n",
      " 26  MonthsDelinquent    291451 non-null  int64         \n",
      " 27  MonthsInRepayment   291451 non-null  int64         \n",
      " 28  FirstPaymentYear    291451 non-null  object        \n",
      " 29  FirstPaymentMonth   291451 non-null  object        \n",
      " 30  C_FirstPaymentDate  291451 non-null  datetime64[ns]\n",
      " 31  Maturity_Year       291451 non-null  object        \n",
      " 32  Maturity_Month      291451 non-null  object        \n",
      " 33  C_MaturityDate      291451 non-null  datetime64[ns]\n",
      "dtypes: datetime64[ns](2), float64(1), int64(12), object(19)\n",
      "memory usage: 75.6+ MB\n"
     ]
    }
   ],
   "source": [
    "df.info()"
   ]
  },
  {
   "cell_type": "code",
   "execution_count": 16,
   "id": "f2fb2fd0-6287-4f17-879a-049eba46e2f3",
   "metadata": {},
   "outputs": [
    {
     "data": {
      "text/plain": [
       "<Axes: >"
      ]
     },
     "execution_count": 16,
     "metadata": {},
     "output_type": "execute_result"
    },
    {
     "data": {
      "image/png": "[encoded data removed]",
      "text/plain": [
       "<Figure size 640x480 with 1 Axes>"
      ]
     },
     "metadata": {},
     "output_type": "display_data"
    }
   ],
   "source": [
    "sns.heatmap(df.isnull(), cbar=False, cmap='viridis')"
   ]
  },
  {
   "cell_type": "code",
   "execution_count": 17,
   "id": "0794164b-c82b-4275-aee8-4670bc2fd323",
   "metadata": {},
   "outputs": [
    {
     "name": "stdout",
     "output_type": "stream",
     "text": [
      "CreditScore : [  0 335 342 363 366 370 375 391 396 445 462 466 471 476 477 478 479 481\n",
      " 482 483 485 486 487 489 490 491 492 493 494 495 496 497 498 499 500 501\n",
      " 502 503 504 505 506 507 508 509 510 511 512 513 514 515 516 517 518 519\n",
      " 520 521 522 523 524 525 526 527 528 529 530 531 532 533 534 535 536 537\n",
      " 538 539 540 541 542 543 544 545 546 547 548 549 550 551 552 553 554 555\n",
      " 556 557 558 559 560 561 562 563 564 565 566 567 568 569 570 571 572 573\n",
      " 574 575 576 577 578 579 580 581 582 583 584 585 586 587 588 589 590 591\n",
      " 592 593 594 595 596 597 598 599 600 601 602 603 604 605 606 607 608 609\n",
      " 610 611 612 613 614 615 616 617 618 619 620 621 622 623 624 625 626 627\n",
      " 628 629 630 631 632 633 634 635 636 637 638 639 640 641 642 643 644 645\n",
      " 646 647 648 649 650 651 652 653 654 655 656 657 658 659 660 661 662 663\n",
      " 664 665 666 667 668 669 670 671 672 673 674 675 676 677 678 679 680 681\n",
      " 682 683 684 685 686 687 688 689 690 691 692 693 694 695 696 697 698 699\n",
      " 700 701 702 703 704 705 706 707 708 709 710 711 712 713 714 715 716 717\n",
      " 718 719 720 721 722 723 724 725 726 727 728 729 730 731 732 733 734 735\n",
      " 736 737 738 739 740 741 742 743 744 745 746 747 748 749 750 751 752 753\n",
      " 754 755 756 757 758 759 760 761 762 763 764 765 766 767 768 769 770 771\n",
      " 772 773 774 775 776 777 778 779 780 781 782 783 784 785 786 787 788 789\n",
      " 790 791 792 793 794 795 796 797 798 799 800 801 802 803 804 805 806 807\n",
      " 808 809 810 811 812 813 814 815 816 817 818 819 820 822 823 825 826 827\n",
      " 828 829 831 835 837 838 839 840 845 849] \n",
      "\n",
      "----------------------------------------------------------------------------------------------------\n",
      "\n",
      "\n",
      "FirstPaymentDate : ['1999-02' '1999-03' '1999-04' '1999-05' '1999-06' '1999-07' '1999-08'\n",
      " '1999-09' '1999-10' '1999-11' '1999-12' '2000-01' '2000-04' '2000-05'\n",
      " '2000-06' '2001-05' '2000-09' '2002-04' '2003-03' '2002-12' '2000-07'\n",
      " '2000-03' '2002-06' '2000-02' '2000-08' '2001-06' '2000-11' '2001-03'\n",
      " '2002-02' '2001-01' '2003-04' '2000-10' '2001-12' '2001-02' '2003-08'\n",
      " '2001-07' '2002-10' '2001-04' '2001-10' '2001-08' '2003-09' '2003-05'\n",
      " '2002-01' '2001-09' '2001-11' '2003-12' '2004-05' '2002-09' '1999-01'\n",
      " '2003-01' '2002-08' '2000-12' '2002-03' '2003-06' '2003-07' '2003-02'\n",
      " '2002-05' '2002-07' '2002-11' '2004-01' '2011-11' '2013-03' '2003-10'\n",
      " '2003-11' '2004-03' '2004-04'] \n",
      "\n",
      "----------------------------------------------------------------------------------------------------\n",
      "\n",
      "\n",
      "FirstTimeHomebuyer : ['N' 'X' 'Y'] \n",
      "\n",
      "----------------------------------------------------------------------------------------------------\n",
      "\n",
      "\n",
      "MaturityDate : [202901 202710 202902 202409 202702 202903 202602 202607 202904 202609\n",
      " 202905 202906 202907 202908 202909 202910 202911 202912 203003 203004\n",
      " 202804 203008 202611 202803 202704 202508 203006 203002 202509 202703\n",
      " 202507 202511 202706 202502 202705 202612 202701 202504 203001 202610\n",
      " 202601 202606 202608 203010 202712 202809 202708 202510 202503 202808\n",
      " 202709 202707 202806 202802 202605 202811 202604 202410 203101 202805\n",
      " 203012 203005 202405 202810 203308 203009 202406 203007 202603 202807\n",
      " 202812 202506 202501 202711 203211 203111 202512 203106 202402 203105\n",
      " 202411 202801 203312 202505 202408 203104 204111 202407 204302 203212\n",
      " 203011 202403 203304 202404 203210 203202] \n",
      "\n",
      "----------------------------------------------------------------------------------------------------\n",
      "\n",
      "\n",
      "MSA : ['16974' '19740' '29940' '31084' '35644' 'X    ' '36740' '25540' '48620'\n",
      " '12060' '12420' '13140' '13644' '15764' '16700' '16940' '17900' '19124'\n",
      " '20500' '20764' '21340' '22380' '22744' '23060' '23104' '24660' '24860'\n",
      " '25060' '26900' '27060' '27140' '27260' '28420' '29404' '30780' '31340'\n",
      " '33124' '33340' '33460' '34820' '35004' '35084' '35380' '37100' '38060'\n",
      " '38300' '38900' '39300' '39340' '39820' '40060' '40140' '40900' '41180'\n",
      " '41620' '41700' '41740' '41884' '42044' '42220' '42644' '43900' '46060'\n",
      " '46700' '47644' '47894' '49180' '49420' '11340' '12100' '14500' '17820'\n",
      " '17860' '19340' '19804' '28140' '29740' '36084' '36500' '37460' '42060'\n",
      " '47260' '48424' '12580' '14484' '14860' '19380' '26420' '29420' '29620'\n",
      " '36540' '37764' '37860' '37964' '38940' '40380' '45300' '19660' '11300'\n",
      " '11460' '12220' '12940' '13820' '13980' '14740' '15540' '16740' '17140'\n",
      " '17460' '17780' '22220' '23420' '23844' '24340' '24780' '26180' '27620'\n",
      " '31420' '31540' '34980' '35300' '39100' '39580' '39900' '40420' '41940'\n",
      " '41980' '42020' '45940' '47300' '48300' '49340' '34100' '35840' '36980'\n",
      " '39140' '43620' '15804' '15940' '29820' '32820' '38860' '40484' '41060'\n",
      " '44140' '45500' '12540' '10740' '10900' '11540' '12260' '12980' '14260'\n",
      " '16180' '16300' '18140' '21140' '22500' '23580' '25260' '26300' '29460'\n",
      " '31140' '31900' '32780' '32900' '33260' '33540' '33700' '34940' '36420'\n",
      " '37340' '37900' '39740' '41500' '42100' '43340' '44700' '45104' '49020'\n",
      " '10420' '10580' '16860' '17980' '22660' '28020' '31020' '35980' '11700'\n",
      " '17660' '19500' '20020' '36780' '36100' '42680' '45220' '48900' '22420'\n",
      " '33860' '28100' '40660' '26820' '49660' '40580' '14060' '24300' '44600'\n",
      " '15980' '23540' '12700' '36260' '30460' '38540' '26620' '45780' '47380'\n",
      " '24580' '18880' '15500' '25420' '41420' '44060' '19140' '39540' '19780'\n",
      " '40340' '34900' '48864' '15380' '20260' '25860' '29140' '42340' '21780'\n",
      " '34740' '33780' '35660' '26580' '24540' '41100' '29540' '21660' '27500'\n",
      " '43780' '30860' '28940' '46140' '44100' '22180' '45460' '42540' '33660'\n",
      " '49740' '15260' '45060' '13900' '43300' '24140' '31700' '19260' '31180'\n",
      " '32580' '18020' '18700' '12020' '27900' '19460' '47220' '27340' '37380'\n",
      " '11180' '44180' '39460' '26100' '29020' '40980' '47580' '27180' '15180'\n",
      " '20740' '46660' '13740' '13460' '20940' '21300' '43580' '49620' '19180'\n",
      " '27740' '30340' '39380' '48140' '49700' '47940' '43100' '27100' '16620'\n",
      " '27860' '30620' '20100' '41780' '31860' '17020' '34580' '10500' '18580'\n",
      " '34620' '17300' '47020' '44940' '30980' '25180' '38220' '13380' '22540'\n",
      " '38340' '22900' '44220' '42140' '22140' '22020' '13020' '30700' '25500'\n",
      " '14540' '22520' '10180' '40220' '46340' '14020' '45820' '16580' '11260'\n",
      " '28700' '21060' '46220' '20220' '29180' '34060' '39660' '11100' '36140'\n",
      " '29100' '16820' '10780' '30140' '26380' '30300' '21820' '28740' '16020'\n",
      " '48660' '12620' '27780' '46540' '25620' '33740' '11020' '24500' '48540'\n",
      " '29700' '21500' '25020' '24220' '31460' '23460' '37700' '41540' '33140'\n",
      " '41660' '30020' '13780' '28660' '16220' '41900' '41140' '37620' '48700'\n",
      " '44300' '24020' '17420' '31740' '29340' '19060' '11500' '26980' '25980'\n",
      " '36220' '10380' '49500' '21940' '32420'] \n",
      "\n",
      "----------------------------------------------------------------------------------------------------\n",
      "\n",
      "\n",
      "MIP : [25  0 30 12 35 29 17 18 20 22  6 14 33 16 52 36 28 11 45 15 27 10 32  9\n",
      " 50 47  7 24 37 26  1 13 21 19 23 55  4] \n",
      "\n",
      "----------------------------------------------------------------------------------------------------\n",
      "\n",
      "\n",
      "Units : [1 2 4 3 0] \n",
      "\n",
      "----------------------------------------------------------------------------------------------------\n",
      "\n",
      "\n",
      "Occupancy : ['O' 'I' 'S'] \n",
      "\n",
      "----------------------------------------------------------------------------------------------------\n",
      "\n",
      "\n",
      "OCLTV : [ 89  73  75  76  78  90  72  95  80  77  85  93  70  74  79  62  44  32\n",
      "  64  91  53  69  60  54  52  84  68  36  55  96  97  46  58  63  83  87\n",
      "  94  86  50  45  71  61  42  59  57  48  51  67  81  66  82  88  26  30\n",
      "  24  34  37  65  31 100   7  38  39  16  41  33  18  22  35  92  40  56\n",
      "  29  43  28  47  49  25  98  27 103  13  10  23  20  15  21 102 101  14\n",
      "  17 105  19   8   0  99 104 110  12   6  11   9] \n",
      "\n",
      "----------------------------------------------------------------------------------------------------\n",
      "\n",
      "\n",
      "DTI : [27 17 16 14 18 40 21 20 38 19 23 45 28 29 15 43 25 24 26 35 46 39 33 48\n",
      " 30 31 22 56 32 12  6 37 36 42 34 11 41  8 44 55  0 13 53 10  9 51  7 47\n",
      " 65 54  2 57  5  3  4 50 59 49 52 64 60 58 62  1 61 63] \n",
      "\n",
      "----------------------------------------------------------------------------------------------------\n",
      "\n",
      "\n",
      "OrigUPB : [117000 109000  88000 160000 207000 111000  97000  55000  35000 126000\n",
      " 200000  70000  93000  79000  54000  80000 231000 145000 187000 148000\n",
      "  90000  65000  86000 122000 157000  94000  63000  50000 100000 191000\n",
      " 204000 222000 189000  57000 202000 137000  56000 140000  18000  76000\n",
      "  77000 151000 118000 182000  98000  89000 172000  82000 240000 102000\n",
      " 173000  51000 169000 101000 152000 141000  47000 128000 133000 135000\n",
      " 115000 144000 146000 212000 176000 214000 190000 227000  99000  83000\n",
      "  49000  29000 124000 132000 150000 300000  95000 149000 162000 226000\n",
      " 110000 112000 219000 236000  67000 195000 164000 198000  60000 194000\n",
      " 147000 104000  72000 183000 154000 179000  66000 210000  46000  96000\n",
      " 225000 156000  45000 235000 113000 139000  74000  68000  69000 238000\n",
      " 142000  73000  52000 143000  27000 217000 106000  64000  36000  39000\n",
      " 134000  38000 108000 120000 155000  71000  31000 234000  28000 136000\n",
      " 184000  48000  44000  42000 193000 119000 131000  26000 114000  81000\n",
      " 209000 248000 185000  61000  30000  41000  92000  62000 170000  87000\n",
      "  75000 174000 103000  59000 230000 105000 177000 130000  84000 138000\n",
      " 116000  23000 125000  34000  33000 171000 213000 127000 205000 123000\n",
      " 203000 291000 216000 158000 167000 153000  20000 220000 175000 211000\n",
      " 163000  43000  53000  32000 252000 161000 129000 215000  78000  40000\n",
      " 188000 239000 107000  58000  37000 181000 166000 228000 307000 197000\n",
      " 180000  91000 192000  85000 206000 165000 232000 208000 201000  13000\n",
      " 121000 196000 221000 304000 159000 229000 278000  24000 284000 243000\n",
      " 178000 251000 261000 313000  25000 262000 168000 186000 223000 323000\n",
      " 306000 282000 199000 237000 224000 250000 246000 260000 254000 247000\n",
      " 244000 274000 329000 242000 272000  21000 265000 233000 270000 264000\n",
      " 348000 276000 266000 218000 328000 245000 280000 256000 315000 263000\n",
      " 338000 351000 267000 285000 259000 258000 257000 327000  14000 400000\n",
      "  17000 332000  16000 277000 275000 298000 287000 319000  19000  15000\n",
      " 279000 390000  22000 299000 281000 296000 269000 249000 241000 325000\n",
      " 359000 297000 253000 347000 355000 288000 273000 271000 286000 302000\n",
      " 290000 371000 336000 293000 360000 255000  10000 303000 268000 316000\n",
      " 350000 292000 320000 312000 301000 352000 318000 289000 326000 305000\n",
      " 294000 345000 331000 283000 330000 311000 361000 308000 310000 295000\n",
      " 415000 333000 368000 428000  12000 309000 370000 423000 358000 340000\n",
      " 354000 461000 324000 399000 339000 364000 334000   9000 346000 363000\n",
      " 353000 497000 341000 442000 410000 455000 314000 344000 431000 317000\n",
      " 392000 413000 436000 322000 389000 398000 454000  11000 458000 416000\n",
      " 440000 402000   8000 387000 420000] \n",
      "\n",
      "----------------------------------------------------------------------------------------------------\n",
      "\n",
      "\n",
      "LTV : [ 89  73  75  76  78  90  72  95  80  77  85  93  70  74  79  62  44  32\n",
      "  64  91  53  69  60  54  52  84  68  36  55  96  97  46  58  63  83  87\n",
      "  94  86  50  45  71  61  42  59  57  48  51  67  81  66  82  88  26  30\n",
      "  24  34  37  65  31   7  38  39  16  41  33  18  22  35  92  40  56  29\n",
      "  43  28  47 100  49  25  98  27  13  10  23  20  15  21 103  14  17  19\n",
      "   8   0  99  12   6  11   9] \n",
      "\n",
      "----------------------------------------------------------------------------------------------------\n",
      "\n",
      "\n",
      "OrigInterestRate : [ 6.75   6.5    6.875  7.125  7.     7.25   6.625  7.75   7.2    7.5\n",
      "  7.625  7.875  6.25   8.125  7.15   7.375  6.375  8.75   7.1    8.5\n",
      "  7.05   6.95   8.     6.     8.625  8.375  6.125  5.75   5.875  8.25\n",
      "  7.18   5.125  5.25   8.99   5.625  9.     9.375  5.     9.125  6.99\n",
      "  5.375  8.365  8.875  8.825  6.975  7.3    7.313  9.625  9.5    9.25\n",
      "  7.85   8.695  4.875  7.775  7.29   7.405  9.75   7.13   5.99   6.999\n",
      "  7.055  7.09   6.785  7.08   7.025  7.7    7.58  10.5    7.55   7.445\n",
      "  9.875  6.9    6.85   6.925  8.37   7.095  7.19   8.85   7.456  7.675\n",
      "  9.675  7.475  8.04   7.4    7.22   7.17   8.7    7.301  8.9   10.\n",
      "  5.5    6.62   6.7    7.325 10.375  4.75   6.6    7.8    7.333 10.85\n",
      "  7.185  7.99   7.245 11.5    6.94   6.87   7.65   7.312  7.28   7.39\n",
      "  7.07   6.55   9.95   7.43   7.48   6.88   8.45   6.825  6.895  6.3\n",
      "  7.49   6.8    6.63   8.05   7.275  7.175  7.225  7.075  8.8    7.33\n",
      "  7.35   7.23   6.65   7.91   7.575  7.425  7.03   7.31  10.625  6.45\n",
      "  7.14   7.12   7.24   7.013  9.7    6.4    6.49   6.97   7.355  7.878\n",
      "  8.27   7.38   7.45   7.105  9.35  10.75   7.365  6.871  5.96   8.3\n",
      "  7.36   9.975  7.37   7.32  11.125  8.07   6.1    6.883  7.95   7.6\n",
      "  7.54  11.1    6.955  9.99   6.995  7.023  5.89   6.35   8.32   8.315\n",
      "  7.62   7.188  7.26   8.14   7.072  7.106  7.066  6.225  7.016  6.52\n",
      "  7.255  6.715  7.04   6.545  6.93   7.056  6.69   8.1    8.485 12.35\n",
      "  7.06   6.2    7.085  7.495  7.158  6.33   8.13   8.18   7.66   6.602\n",
      "  7.293  7.371  6.98   8.06   6.92   5.49   6.626  6.685  6.51   8.67\n",
      "  6.813  7.257  7.165  8.31   8.255  7.825  7.395  7.624  7.195  7.265\n",
      "  6.935  6.965  4.     6.54   6.948  7.64   7.02   6.74   6.96   6.957\n",
      "  7.063  7.415  7.21   6.15   6.79   7.399  7.47   7.059  7.305  7.925\n",
      "  7.93   7.154  6.09   5.8  ] \n",
      "\n",
      "----------------------------------------------------------------------------------------------------\n",
      "\n",
      "\n",
      "Channel : ['T' 'R' 'C' 'B'] \n",
      "\n",
      "----------------------------------------------------------------------------------------------------\n",
      "\n",
      "\n",
      "PPM : ['N' 'X' 'Y'] \n",
      "\n",
      "----------------------------------------------------------------------------------------------------\n",
      "\n",
      "\n",
      "ProductType : ['FRM  '] \n",
      "\n",
      "----------------------------------------------------------------------------------------------------\n",
      "\n",
      "\n",
      "PropertyState : ['IL' 'CO' 'KS' 'CA' 'NJ' 'WI' 'FL' 'CT' 'GA' 'TX' 'MD' 'MA' 'SC' 'WY'\n",
      " 'NC' 'AZ' 'IN' 'MS' 'NY' 'WA' 'AR' 'VA' 'MN' 'LA' 'PA' 'OR' 'RI' 'UT'\n",
      " 'MI' 'TN' 'AL' 'MO' 'IA' 'NM' 'NV' 'VT' 'OH' 'NE' 'HI' 'ID' 'PR' 'DC'\n",
      " 'GU' 'KY' 'NH' 'SD' 'ME' 'MT' 'OK' 'WV' 'DE' 'ND' 'AK'] \n",
      "\n",
      "----------------------------------------------------------------------------------------------------\n",
      "\n",
      "\n",
      "PropertyType : ['SF' 'PU' 'CO' 'MH' 'CP' 'LH' 'X '] \n",
      "\n",
      "----------------------------------------------------------------------------------------------------\n",
      "\n",
      "\n",
      "PostalCode : ['60400' '80200' '66000' ... '33200' '84200' '41300'] \n",
      "\n",
      "----------------------------------------------------------------------------------------------------\n",
      "\n",
      "\n",
      "LoanSeqNum : ['F199Q1268030' 'F199Q1015092' 'F199Q1266886' ... 'F199Q1401282'\n",
      " 'F199Q1220924' 'F199Q1220923'] \n",
      "\n",
      "----------------------------------------------------------------------------------------------------\n",
      "\n",
      "\n",
      "LoanPurpose : ['P' 'N' 'C'] \n",
      "\n",
      "----------------------------------------------------------------------------------------------------\n",
      "\n",
      "\n",
      "OrigLoanTerm : [360 345 306 335 322 327 329 358 355 356 354 346 350 334 325 344 348 313\n",
      " 316 336 359 318 353 330 319 332 315 320 338 312 328 337 351 333 317 331\n",
      " 357 341 343 326 339 324 347 352 307 309 349 342 304 310 323 340 301 305\n",
      " 314 321 302 308 303 361 311] \n",
      "\n",
      "----------------------------------------------------------------------------------------------------\n",
      "\n",
      "\n",
      "NumBorrowers : ['2' '1' 'X '] \n",
      "\n",
      "----------------------------------------------------------------------------------------------------\n",
      "\n",
      "\n",
      "SellerName : ['FL' 'FT' 'GM' 'Ot' 'RE' 'NO' 'ST' 'CR' 'CH' 'FI' 'HO' 'PR' nan 'PN' 'WA'\n",
      " 'BA' 'G ' 'OL' 'AC' 'CO' 'BI'] \n",
      "\n",
      "----------------------------------------------------------------------------------------------------\n",
      "\n",
      "\n",
      "ServicerName : ['WASHINGTONMUTUALBANK' 'CHASEHOMEFINANCELLC ' 'GMACMTGECORP        '\n",
      " 'Other servicers     ' 'WELLSFARGOBANKNA   ' 'ABNAMROMTGEGROUPINC'\n",
      " 'BANKOFAMERICANA    ' 'CHASEMANHATTANMTGECO' 'HOMESIDELENDINGINC '\n",
      " 'CHASEMTGECO         ' 'WELLSFARGOHOMEMORTGA' 'PRINCIPALRESIDENTIAL'\n",
      " 'CITIMORTGAGEINC    ' 'JPMORGANCHASEBANKNA' 'BAMORTGAGELLC      '\n",
      " 'NATLCITYMTGECO      ' 'FTMTGESERVICESINC  ' 'SUNTRUSTMORTGAGEINC'\n",
      " 'COUNTRYWIDE         ' 'FIFTHTHIRDBANK      '] \n",
      "\n",
      "----------------------------------------------------------------------------------------------------\n",
      "\n",
      "\n",
      "EverDelinquent : [0 1] \n",
      "\n",
      "----------------------------------------------------------------------------------------------------\n",
      "\n",
      "\n",
      "MonthsDelinquent : [  0   3 104   5  23  32   1   2   4  20  10  34  35   6  11 153   7  15\n",
      "   8  18  78  24  14  28  13  95  17  25   9  66  36  19  27  49  50  26\n",
      "  29  12  16  21  22 118  30  69 158  62  43  38  64  71  76  74  92  41\n",
      "  91  83 130  70 102  33  31  84  85  65  52  47  46  68  45  37 120  61\n",
      "  39  56 129  60  48  55 172  54  40 136 151 124 100 105  51  99 107  73\n",
      "  57 170 117  86  94  63  75 149 106 112 110  77 122 135 180  58  53 116\n",
      "  59  42 163 111 141 169  44  82  79  72 121 134  81  89 150 113 109 146\n",
      "  80 133  97 103 168  67 101 145 139  87  93 140 115 147  96 127  98 132\n",
      " 108 126 138  88 156 119 165  90 114 157 144 160 123 148 143 137 152 175\n",
      " 131 154 162 179 128 178 125 155 159 142 161 171] \n",
      "\n",
      "----------------------------------------------------------------------------------------------------\n",
      "\n",
      "\n",
      "MonthsInRepayment : [ 52 144  67  35  54  42  44 145  64 212  37  47  53  55  66  26  38  36\n",
      "  39  40  11 176  46 197 210  56 118  63  24  28  91  50  22 211 199  23\n",
      "  30 125  41  76  49  18  19  43  60  83  95  29  45  13   6  48  62  14\n",
      "  15 111  51  17  75  58  27  10  31 133 165 156  33  68 205  57 159  81\n",
      " 191 194 114  59 100 134  74   9  34  77 170 122  69  72 206 148 153 101\n",
      " 180   8  32   5 207   7 128  71  65  79 174 195 151 149  21  12 137 130\n",
      "  70 173 166  61 160  20 178   3 147   2 164 139 108  92 209 102  87  94\n",
      "  73 123  16 142   1 172 109 141 175 103 168 155 177 158 138  25 110  98\n",
      "  84 208 188 106 112 121 136 179   4 154 161 157 150  80 183  93 143 162\n",
      " 126  89 184  82 117 107 193  85 124 192  78 169 104 131 140 163 182 132\n",
      " 135  86 129 186 127 189 190 198 202 167 146  90 119  99 201 120  96 116\n",
      " 105 171  88 113 181 204  97 203 185 196 115 152 200 187] \n",
      "\n",
      "----------------------------------------------------------------------------------------------------\n",
      "\n",
      "\n",
      "FirstPaymentYear : ['1999' '2000' '2001' '2002' '2003' '2004' '2011' '2013'] \n",
      "\n",
      "----------------------------------------------------------------------------------------------------\n",
      "\n",
      "\n",
      "FirstPaymentMonth : ['02' '03' '04' '05' '06' '07' '08' '09' '10' '11' '12' '01'] \n",
      "\n",
      "----------------------------------------------------------------------------------------------------\n",
      "\n",
      "\n",
      "C_FirstPaymentDate : <DatetimeArray>\n",
      "['1999-02-01 00:00:00', '1999-03-01 00:00:00', '1999-04-01 00:00:00',\n",
      " '1999-05-01 00:00:00', '1999-06-01 00:00:00', '1999-07-01 00:00:00',\n",
      " '1999-08-01 00:00:00', '1999-09-01 00:00:00', '1999-10-01 00:00:00',\n",
      " '1999-11-01 00:00:00', '1999-12-01 00:00:00', '2000-01-01 00:00:00',\n",
      " '2000-04-01 00:00:00', '2000-05-01 00:00:00', '2000-06-01 00:00:00',\n",
      " '2001-05-01 00:00:00', '2000-09-01 00:00:00', '2002-04-01 00:00:00',\n",
      " '2003-03-01 00:00:00', '2002-12-01 00:00:00', '2000-07-01 00:00:00',\n",
      " '2000-03-01 00:00:00', '2002-06-01 00:00:00', '2000-02-01 00:00:00',\n",
      " '2000-08-01 00:00:00', '2001-06-01 00:00:00', '2000-11-01 00:00:00',\n",
      " '2001-03-01 00:00:00', '2002-02-01 00:00:00', '2001-01-01 00:00:00',\n",
      " '2003-04-01 00:00:00', '2000-10-01 00:00:00', '2001-12-01 00:00:00',\n",
      " '2001-02-01 00:00:00', '2003-08-01 00:00:00', '2001-07-01 00:00:00',\n",
      " '2002-10-01 00:00:00', '2001-04-01 00:00:00', '2001-10-01 00:00:00',\n",
      " '2001-08-01 00:00:00', '2003-09-01 00:00:00', '2003-05-01 00:00:00',\n",
      " '2002-01-01 00:00:00', '2001-09-01 00:00:00', '2001-11-01 00:00:00',\n",
      " '2003-12-01 00:00:00', '2004-05-01 00:00:00', '2002-09-01 00:00:00',\n",
      " '1999-01-01 00:00:00', '2003-01-01 00:00:00', '2002-08-01 00:00:00',\n",
      " '2000-12-01 00:00:00', '2002-03-01 00:00:00', '2003-06-01 00:00:00',\n",
      " '2003-07-01 00:00:00', '2003-02-01 00:00:00', '2002-05-01 00:00:00',\n",
      " '2002-07-01 00:00:00', '2002-11-01 00:00:00', '2004-01-01 00:00:00',\n",
      " '2011-11-01 00:00:00', '2013-03-01 00:00:00', '2003-10-01 00:00:00',\n",
      " '2003-11-01 00:00:00', '2004-03-01 00:00:00', '2004-04-01 00:00:00']\n",
      "Length: 66, dtype: datetime64[ns] \n",
      "\n",
      "----------------------------------------------------------------------------------------------------\n",
      "\n",
      "\n",
      "Maturity_Year : ['2029' '2027' '2024' '2026' '2030' '2028' '2025' '2031' '2033' '2032'\n",
      " '2041' '2043'] \n",
      "\n",
      "----------------------------------------------------------------------------------------------------\n",
      "\n",
      "\n",
      "Maturity_Month : ['01' '10' '02' '09' '03' '07' '04' '05' '06' '08' '11' '12'] \n",
      "\n",
      "----------------------------------------------------------------------------------------------------\n",
      "\n",
      "\n",
      "C_MaturityDate : <DatetimeArray>\n",
      "['2029-01-01 00:00:00', '2027-10-01 00:00:00', '2029-02-01 00:00:00',\n",
      " '2024-09-01 00:00:00', '2027-02-01 00:00:00', '2029-03-01 00:00:00',\n",
      " '2026-02-01 00:00:00', '2026-07-01 00:00:00', '2029-04-01 00:00:00',\n",
      " '2026-09-01 00:00:00', '2029-05-01 00:00:00', '2029-06-01 00:00:00',\n",
      " '2029-07-01 00:00:00', '2029-08-01 00:00:00', '2029-09-01 00:00:00',\n",
      " '2029-10-01 00:00:00', '2029-11-01 00:00:00', '2029-12-01 00:00:00',\n",
      " '2030-03-01 00:00:00', '2030-04-01 00:00:00', '2028-04-01 00:00:00',\n",
      " '2030-08-01 00:00:00', '2026-11-01 00:00:00', '2028-03-01 00:00:00',\n",
      " '2027-04-01 00:00:00', '2025-08-01 00:00:00', '2030-06-01 00:00:00',\n",
      " '2030-02-01 00:00:00', '2025-09-01 00:00:00', '2027-03-01 00:00:00',\n",
      " '2025-07-01 00:00:00', '2025-11-01 00:00:00', '2027-06-01 00:00:00',\n",
      " '2025-02-01 00:00:00', '2027-05-01 00:00:00', '2026-12-01 00:00:00',\n",
      " '2027-01-01 00:00:00', '2025-04-01 00:00:00', '2030-01-01 00:00:00',\n",
      " '2026-10-01 00:00:00', '2026-01-01 00:00:00', '2026-06-01 00:00:00',\n",
      " '2026-08-01 00:00:00', '2030-10-01 00:00:00', '2027-12-01 00:00:00',\n",
      " '2028-09-01 00:00:00', '2027-08-01 00:00:00', '2025-10-01 00:00:00',\n",
      " '2025-03-01 00:00:00', '2028-08-01 00:00:00', '2027-09-01 00:00:00',\n",
      " '2027-07-01 00:00:00', '2028-06-01 00:00:00', '2028-02-01 00:00:00',\n",
      " '2026-05-01 00:00:00', '2028-11-01 00:00:00', '2026-04-01 00:00:00',\n",
      " '2024-10-01 00:00:00', '2031-01-01 00:00:00', '2028-05-01 00:00:00',\n",
      " '2030-12-01 00:00:00', '2030-05-01 00:00:00', '2024-05-01 00:00:00',\n",
      " '2028-10-01 00:00:00', '2033-08-01 00:00:00', '2030-09-01 00:00:00',\n",
      " '2024-06-01 00:00:00', '2030-07-01 00:00:00', '2026-03-01 00:00:00',\n",
      " '2028-07-01 00:00:00', '2028-12-01 00:00:00', '2025-06-01 00:00:00',\n",
      " '2025-01-01 00:00:00', '2027-11-01 00:00:00', '2032-11-01 00:00:00',\n",
      " '2031-11-01 00:00:00', '2025-12-01 00:00:00', '2031-06-01 00:00:00',\n",
      " '2024-02-01 00:00:00', '2031-05-01 00:00:00', '2024-11-01 00:00:00',\n",
      " '2028-01-01 00:00:00', '2033-12-01 00:00:00', '2025-05-01 00:00:00',\n",
      " '2024-08-01 00:00:00', '2031-04-01 00:00:00', '2041-11-01 00:00:00',\n",
      " '2024-07-01 00:00:00', '2043-02-01 00:00:00', '2032-12-01 00:00:00',\n",
      " '2030-11-01 00:00:00', '2024-03-01 00:00:00', '2033-04-01 00:00:00',\n",
      " '2024-04-01 00:00:00', '2032-10-01 00:00:00', '2032-02-01 00:00:00']\n",
      "Length: 96, dtype: datetime64[ns] \n",
      "\n",
      "----------------------------------------------------------------------------------------------------\n",
      "\n",
      "\n"
     ]
    }
   ],
   "source": [
    "for col in df.columns :\n",
    "    print('{} : {} \\n'.format(col,df[col].unique()))\n",
    "    print('-'*100)\n",
    "    print('\\n')"
   ]
  },
  {
   "cell_type": "code",
   "execution_count": 18,
   "id": "ac17ccc4-2de9-40d3-9846-df598cab486d",
   "metadata": {},
   "outputs": [],
   "source": [
    "from pandas.api.types import is_numeric_dtype"
   ]
  },
  {
   "cell_type": "code",
   "execution_count": 19,
   "id": "58ff4011-02af-4a92-9485-626143b7fbd5",
   "metadata": {},
   "outputs": [],
   "source": [
    "def summary_missing_values(df):\n",
    "    output_df = pd.DataFrame(columns=['is_Numeric', 'has_X_values?', 'Conditions', 'Column_Description'])\n",
    "    \n",
    "    output_df.loc['CreditScore']        = [is_numeric_dtype(df['CreditScore']), 'False', \"Scores <300 or >850 are “Not Available”\", \"The standardized credit score used to evaluate the borrower during the loan origination process.\" ]\n",
    "    output_df.loc['FirstTimeHomebuyer'] = [is_numeric_dtype(df['FirstTimeHomebuyer']), 'True', \"9 = Not Available\", \"The indicator denoting whether a borrower on the loan qualifies as a first-time homebuyer.\" ]\n",
    "    output_df.loc['MSA']                = [is_numeric_dtype(df['MSA']), 'True', \"None\", \"Mortgage Security Amount\" ]\n",
    "    output_df.loc['MIP']                = [is_numeric_dtype(df['MIP']), 'False', \"MIP values > 55% will be disclosed as “Not Available”. 000= No MI; 999= Not Available\", \"The percentage of mortgage insurance coverage obtained at origination in effect at the time the security was issued.\" ]\n",
    "    output_df.loc['Units']              = [is_numeric_dtype(df['Units']), 'False', \"99 = Not Available\", \"The number of dwelling units in the mortgaged property at the time the loan was originated: 1, 2, 3 or 4.\" ]\n",
    "    output_df.loc['Occupancy']          = [is_numeric_dtype(df['Occupancy']), 'False', \"None\", \"The classification describing the property occupancy status at the time the loan was originated.\" ]\n",
    "    output_df.loc['OCLTV']              = [is_numeric_dtype(df['OCLTV']), 'False', \"99 = Not Available\", \"The ratio, expressed as a percentage, obtained by dividing the amount of all known outstanding loans at origination by the value of the property.\" ]\n",
    "    output_df.loc['DTI']                = [is_numeric_dtype(df['DTI']), 'False', \"Percentages < 1% or > 65% will be disclosed as “Not Available,”\", \"The ratio obtained by dividing the total monthly debt expense by the total monthly income of the borrower at the time the loan was originated or modified. \" ]\n",
    "    output_df.loc['LTV']                = [is_numeric_dtype(df['LTV']), 'False', \"Percentages < 1% or > than 998% will be disclosed as “Not Available,”. 999 = Not Available.\", \"The ratio, expressed as a percentage, obtained by dividing the amount of the loan at origination by the value of the property. \" ]\n",
    "    output_df.loc['OrigInterestRate']   = [is_numeric_dtype(df['OrigInterestRate']), 'False', \"If value <0 or >25, then the rate is considered not available\", \"The interest rate of the loan as stated on the note at the time the loan was originated.\"]\n",
    "    output_df.loc['Channel']            = [is_numeric_dtype(df['Channel']), 'False', \"9 = Not Available\", \"The origination channel used by the party that delivered the loan to the issuer.\" ]\n",
    "    output_df.loc['PPM']                = [is_numeric_dtype(df['PPM']), 'True', \"9 = Not Available\", \"The indicator denoting whether the borrower is subject to a penalty for early payment of principal.\" ]\n",
    "    output_df.loc['PropertyType']       = [is_numeric_dtype(df['PropertyType']), 'True', \"None\", \"The classification describing the type of property that secures the loan.\" ]\n",
    "    output_df.loc['PostalCode']         = [is_numeric_dtype(df['PostalCode']), 'True', \"None\", \"-\" ]\n",
    "    output_df.loc['NumBorrowers']       = [is_numeric_dtype(df['NumBorrowers']), 'True', \"99 = Not Available\", \"The number of borrowers who, at the time the loan was originated, are obligated to repay the loan: 1, 2, 3, 4, 5, 6, 7, 8, 9, 10. \" ]\n",
    "    output_df.loc['SellerName']         = [is_numeric_dtype(df['SellerName']), 'False', \"None\", \"The name of the entity that sold the loan to the issuer.\" ]\n",
    "    output_df.loc['ServicerName']       = [is_numeric_dtype(df['ServicerName']), 'False', \"None\", \"The name of the entity that services the loan during the current reporting period.\" ]\n",
    "    output_df.loc['EverDelinquent']     = [is_numeric_dtype(df['EverDelinquent']), 'False', \"None\", \"Target column\" ]\n",
    "    output_df.loc['MonthsDelinquent']   = [is_numeric_dtype(df['MonthsDelinquent']), 'False', \"9 = Not Available\", \"The number of days for which a mortgage loan has been reported delinquent.\" ]\n",
    "    output_df.loc['MonthsInRepayment']  = [is_numeric_dtype(df['MonthsInRepayment']), 'False', \"None\", \"-\" ]\n",
    "    #output_df.loc[''] = [is_numeric_dtype(df['']), 'False', \"9 = Not Available\", \"\" ]\n",
    "    \n",
    "    return output_df\n",
    "    \n",
    "pd.set_option('display.max_colwidth', None)\n",
    "output_df=summary_missing_values(df)"
   ]
  },
  {
   "cell_type": "code",
   "execution_count": 20,
   "id": "3b44c833-9bff-4cdb-b891-e7b25d03d8fd",
   "metadata": {},
   "outputs": [],
   "source": [
    "columns_with_X_values = ['FirstTimeHomebuyer', 'MSA', 'PPM', 'PropertyType', 'PostalCode', 'NumBorrowers']\n",
    "def replace_X_values_by_nan(df):\n",
    "    df.loc[df['FirstTimeHomebuyer'] == 'X', 'FirstTimeHomebuyer'] = np.nan\n",
    "    df.loc[df['MSA'] == 'X    ', 'MSA']                           = np.nan\n",
    "    df.loc[df['PPM'] == 'X', 'PPM']                               = np.nan\n",
    "    df.loc[df['PropertyType'] == 'X ' , 'PropertyType']           = np.nan\n",
    "    df.loc[df['PostalCode'] == 'X    ' , 'PostalCode']            = np.nan\n",
    "    df.loc[df['NumBorrowers'] == 'X ' , 'NumBorrowers']           = np.nan\n",
    "    \n",
    "    return df\n",
    "\n",
    "df = replace_X_values_by_nan(df)"
   ]
  },
  {
   "cell_type": "code",
   "execution_count": 21,
   "id": "d5069ecb-5f59-48de-8630-0eaaaa5be1bd",
   "metadata": {},
   "outputs": [
    {
     "name": "stdout",
     "output_type": "stream",
     "text": [
      "FirstTimeHomebuyer : ['N' nan 'Y']\n",
      "\n",
      "----------------------------------------------------------------------------------------------------\n",
      "\n",
      "\n",
      "MSA : ['16974' '19740' '29940' '31084' '35644' nan '36740' '25540' '48620'\n",
      " '12060' '12420' '13140' '13644' '15764' '16700' '16940' '17900' '19124'\n",
      " '20500' '20764' '21340' '22380' '22744' '23060' '23104' '24660' '24860'\n",
      " '25060' '26900' '27060' '27140' '27260' '28420' '29404' '30780' '31340'\n",
      " '33124' '33340' '33460' '34820' '35004' '35084' '35380' '37100' '38060'\n",
      " '38300' '38900' '39300' '39340' '39820' '40060' '40140' '40900' '41180'\n",
      " '41620' '41700' '41740' '41884' '42044' '42220' '42644' '43900' '46060'\n",
      " '46700' '47644' '47894' '49180' '49420' '11340' '12100' '14500' '17820'\n",
      " '17860' '19340' '19804' '28140' '29740' '36084' '36500' '37460' '42060'\n",
      " '47260' '48424' '12580' '14484' '14860' '19380' '26420' '29420' '29620'\n",
      " '36540' '37764' '37860' '37964' '38940' '40380' '45300' '19660' '11300'\n",
      " '11460' '12220' '12940' '13820' '13980' '14740' '15540' '16740' '17140'\n",
      " '17460' '17780' '22220' '23420' '23844' '24340' '24780' '26180' '27620'\n",
      " '31420' '31540' '34980' '35300' '39100' '39580' '39900' '40420' '41940'\n",
      " '41980' '42020' '45940' '47300' '48300' '49340' '34100' '35840' '36980'\n",
      " '39140' '43620' '15804' '15940' '29820' '32820' '38860' '40484' '41060'\n",
      " '44140' '45500' '12540' '10740' '10900' '11540' '12260' '12980' '14260'\n",
      " '16180' '16300' '18140' '21140' '22500' '23580' '25260' '26300' '29460'\n",
      " '31140' '31900' '32780' '32900' '33260' '33540' '33700' '34940' '36420'\n",
      " '37340' '37900' '39740' '41500' '42100' '43340' '44700' '45104' '49020'\n",
      " '10420' '10580' '16860' '17980' '22660' '28020' '31020' '35980' '11700'\n",
      " '17660' '19500' '20020' '36780' '36100' '42680' '45220' '48900' '22420'\n",
      " '33860' '28100' '40660' '26820' '49660' '40580' '14060' '24300' '44600'\n",
      " '15980' '23540' '12700' '36260' '30460' '38540' '26620' '45780' '47380'\n",
      " '24580' '18880' '15500' '25420' '41420' '44060' '19140' '39540' '19780'\n",
      " '40340' '34900' '48864' '15380' '20260' '25860' '29140' '42340' '21780'\n",
      " '34740' '33780' '35660' '26580' '24540' '41100' '29540' '21660' '27500'\n",
      " '43780' '30860' '28940' '46140' '44100' '22180' '45460' '42540' '33660'\n",
      " '49740' '15260' '45060' '13900' '43300' '24140' '31700' '19260' '31180'\n",
      " '32580' '18020' '18700' '12020' '27900' '19460' '47220' '27340' '37380'\n",
      " '11180' '44180' '39460' '26100' '29020' '40980' '47580' '27180' '15180'\n",
      " '20740' '46660' '13740' '13460' '20940' '21300' '43580' '49620' '19180'\n",
      " '27740' '30340' '39380' '48140' '49700' '47940' '43100' '27100' '16620'\n",
      " '27860' '30620' '20100' '41780' '31860' '17020' '34580' '10500' '18580'\n",
      " '34620' '17300' '47020' '44940' '30980' '25180' '38220' '13380' '22540'\n",
      " '38340' '22900' '44220' '42140' '22140' '22020' '13020' '30700' '25500'\n",
      " '14540' '22520' '10180' '40220' '46340' '14020' '45820' '16580' '11260'\n",
      " '28700' '21060' '46220' '20220' '29180' '34060' '39660' '11100' '36140'\n",
      " '29100' '16820' '10780' '30140' '26380' '30300' '21820' '28740' '16020'\n",
      " '48660' '12620' '27780' '46540' '25620' '33740' '11020' '24500' '48540'\n",
      " '29700' '21500' '25020' '24220' '31460' '23460' '37700' '41540' '33140'\n",
      " '41660' '30020' '13780' '28660' '16220' '41900' '41140' '37620' '48700'\n",
      " '44300' '24020' '17420' '31740' '29340' '19060' '11500' '26980' '25980'\n",
      " '36220' '10380' '49500' '21940' '32420']\n",
      "\n",
      "----------------------------------------------------------------------------------------------------\n",
      "\n",
      "\n",
      "PPM : ['N' nan 'Y']\n",
      "\n",
      "----------------------------------------------------------------------------------------------------\n",
      "\n",
      "\n",
      "PropertyType : ['SF' 'PU' 'CO' 'MH' 'CP' 'LH' nan]\n",
      "\n",
      "----------------------------------------------------------------------------------------------------\n",
      "\n",
      "\n",
      "PostalCode : ['60400' '80200' '66000' ... '33200' '84200' '41300']\n",
      "\n",
      "----------------------------------------------------------------------------------------------------\n",
      "\n",
      "\n",
      "NumBorrowers : ['2' '1' nan]\n",
      "\n",
      "----------------------------------------------------------------------------------------------------\n",
      "\n",
      "\n"
     ]
    }
   ],
   "source": [
    "for col in columns_with_X_values:\n",
    "    print('{} : {}\\n'.format(col, df[col].unique()))\n",
    "    print('-'*100)\n",
    "    print('\\n')"
   ]
  },
  {
   "cell_type": "code",
   "execution_count": 22,
   "id": "f0437368-1207-4682-b89d-26afba2e12cd",
   "metadata": {},
   "outputs": [
    {
     "data": {
      "text/plain": [
       "0       0\n",
       "1       0\n",
       "2       0\n",
       "3       0\n",
       "4       0\n",
       "       ..\n",
       "1184    0\n",
       "1185    0\n",
       "1186    0\n",
       "1187    0\n",
       "1188    0\n",
       "Name: CreditScore, Length: 1189, dtype: int64"
      ]
     },
     "execution_count": 22,
     "metadata": {},
     "output_type": "execute_result"
    }
   ],
   "source": [
    "df[(df['CreditScore']<300)]['CreditScore']"
   ]
  },
  {
   "cell_type": "code",
   "execution_count": 23,
   "id": "cc0d3880-69a2-468e-81f1-4a03e490fb8c",
   "metadata": {},
   "outputs": [
    {
     "data": {
      "text/plain": [
       "Series([], Name: CreditScore, dtype: int64)"
      ]
     },
     "execution_count": 23,
     "metadata": {},
     "output_type": "execute_result"
    }
   ],
   "source": [
    "df[(df['CreditScore'] >850) | (df['CreditScore']==9999)]['CreditScore']"
   ]
  },
  {
   "cell_type": "code",
   "execution_count": 24,
   "id": "47ada5db-a539-4a31-a1d5-d638a058f150",
   "metadata": {},
   "outputs": [
    {
     "data": {
      "text/plain": [
       "Series([], Name: MIP, dtype: int64)"
      ]
     },
     "execution_count": 24,
     "metadata": {},
     "output_type": "execute_result"
    }
   ],
   "source": [
    "df[(df['MIP'] > 55) | (df['MIP']== 999)]['MIP']"
   ]
  },
  {
   "cell_type": "code",
   "execution_count": 25,
   "id": "38f04c1a-9a22-4d17-8e71-c0f058ff7a1d",
   "metadata": {},
   "outputs": [
    {
     "data": {
      "text/plain": [
       "Occupancy\n",
       "O    276131\n",
       "I      8734\n",
       "S      6586\n",
       "Name: count, dtype: int64"
      ]
     },
     "execution_count": 25,
     "metadata": {},
     "output_type": "execute_result"
    }
   ],
   "source": [
    "df['Occupancy'].value_counts()"
   ]
  },
  {
   "cell_type": "code",
   "execution_count": 26,
   "id": "45e3b29d-d760-49e8-94df-d95bfc37cf8f",
   "metadata": {},
   "outputs": [
    {
     "data": {
      "text/plain": [
       "140       0\n",
       "167       0\n",
       "176       0\n",
       "179       0\n",
       "186       0\n",
       "         ..\n",
       "291438    0\n",
       "291441    0\n",
       "291442    0\n",
       "291443    0\n",
       "291447    0\n",
       "Name: DTI, Length: 17796, dtype: int64"
      ]
     },
     "execution_count": 26,
     "metadata": {},
     "output_type": "execute_result"
    }
   ],
   "source": [
    "df[(df['DTI']<1) | (df['DTI'] > 65) | (df['DTI'] ==999)]['DTI']"
   ]
  },
  {
   "cell_type": "code",
   "execution_count": 27,
   "id": "f8b94d3a-42bc-4941-bf75-9186091c6608",
   "metadata": {},
   "outputs": [
    {
     "data": {
      "text/plain": [
       "31098     0\n",
       "88463     0\n",
       "233257    0\n",
       "276981    0\n",
       "287773    0\n",
       "Name: LTV, dtype: int64"
      ]
     },
     "execution_count": 27,
     "metadata": {},
     "output_type": "execute_result"
    }
   ],
   "source": [
    "df[(df[\"LTV\"] < 1)][\"LTV\"]"
   ]
  },
  {
   "cell_type": "code",
   "execution_count": 28,
   "id": "6c492e93-db65-438f-9112-fced573b5138",
   "metadata": {},
   "outputs": [
    {
     "data": {
      "text/plain": [
       "Series([], Name: LTV, dtype: int64)"
      ]
     },
     "execution_count": 28,
     "metadata": {},
     "output_type": "execute_result"
    }
   ],
   "source": [
    "df[(df[\"LTV\"] > 998) | (df[\"LTV\"] == 999)][\"LTV\"]"
   ]
  },
  {
   "cell_type": "code",
   "execution_count": 29,
   "id": "208d9617-45f3-4bb4-96ec-c0aaf69301b3",
   "metadata": {},
   "outputs": [
    {
     "data": {
      "text/plain": [
       "Series([], Name: OrigInterestRate, dtype: float64)"
      ]
     },
     "execution_count": 29,
     "metadata": {},
     "output_type": "execute_result"
    }
   ],
   "source": [
    "df[(df.OrigInterestRate < 0) | (df.OrigInterestRate > 25)].OrigInterestRate"
   ]
  },
  {
   "cell_type": "code",
   "execution_count": 30,
   "id": "96fa520c-ac5d-47c4-bc5a-697109e3ebed",
   "metadata": {},
   "outputs": [
    {
     "data": {
      "text/plain": [
       "Index(['CreditScore', 'FirstPaymentDate', 'FirstTimeHomebuyer', 'MaturityDate',\n",
       "       'MSA', 'MIP', 'Units', 'Occupancy', 'OCLTV', 'DTI', 'OrigUPB', 'LTV',\n",
       "       'OrigInterestRate', 'Channel', 'PPM', 'ProductType', 'PropertyState',\n",
       "       'PropertyType', 'PostalCode', 'LoanSeqNum', 'LoanPurpose',\n",
       "       'OrigLoanTerm', 'NumBorrowers', 'SellerName', 'ServicerName',\n",
       "       'EverDelinquent', 'MonthsDelinquent', 'MonthsInRepayment',\n",
       "       'FirstPaymentYear', 'FirstPaymentMonth', 'C_FirstPaymentDate',\n",
       "       'Maturity_Year', 'Maturity_Month', 'C_MaturityDate'],\n",
       "      dtype='object')"
      ]
     },
     "execution_count": 30,
     "metadata": {},
     "output_type": "execute_result"
    }
   ],
   "source": [
    "df.columns"
   ]
  },
  {
   "cell_type": "code",
   "execution_count": 31,
   "id": "d07c9f84-3efc-4d79-99f1-5278058d2900",
   "metadata": {},
   "outputs": [],
   "source": [
    "def matching_description_conditions(data):\n",
    "    # replacing all credit score values less than 300 by np.nan\n",
    "    data.loc[data['CreditScore'] < 300, 'CreditScore'] = np.nan\n",
    "    data.loc[data['DTI'] < 1, 'DTI'] = np.nan\n",
    "    data.loc[data['LTV'] < 1, 'LTV'] = np.nan\n",
    "    \n",
    "    return data\n",
    "\n",
    "df = matching_description_conditions(df)"
   ]
  },
  {
   "cell_type": "code",
   "execution_count": 32,
   "id": "e90e2617-ae07-450c-ab22-3852b0d35014",
   "metadata": {},
   "outputs": [
    {
     "data": {
      "text/plain": [
       "FirstTimeHomebuyer    78015\n",
       "MSA                   39100\n",
       "SellerName            24994\n",
       "DTI                   17796\n",
       "PPM                    5405\n",
       "CreditScore            1189\n",
       "NumBorrowers            339\n",
       "PropertyType             22\n",
       "PostalCode                6\n",
       "LTV                       5\n",
       "OCLTV                     0\n",
       "MIP                       0\n",
       "Maturity_Month            0\n",
       "Maturity_Year             0\n",
       "C_FirstPaymentDate        0\n",
       "FirstPaymentMonth         0\n",
       "FirstPaymentYear          0\n",
       "MonthsInRepayment         0\n",
       "MonthsDelinquent          0\n",
       "EverDelinquent            0\n",
       "ServicerName              0\n",
       "MaturityDate              0\n",
       "OrigLoanTerm              0\n",
       "Occupancy                 0\n",
       "LoanPurpose               0\n",
       "LoanSeqNum                0\n",
       "FirstPaymentDate          0\n",
       "PropertyState             0\n",
       "ProductType               0\n",
       "Units                     0\n",
       "Channel                   0\n",
       "OrigInterestRate          0\n",
       "OrigUPB                   0\n",
       "C_MaturityDate            0\n",
       "dtype: int64"
      ]
     },
     "execution_count": 32,
     "metadata": {},
     "output_type": "execute_result"
    }
   ],
   "source": [
    "df.isnull().sum().sort_values(ascending=False)"
   ]
  },
  {
   "cell_type": "code",
   "execution_count": 33,
   "id": "639603af-b024-43e5-9b0f-6729354b5be9",
   "metadata": {},
   "outputs": [
    {
     "data": {
      "text/plain": [
       "<Axes: >"
      ]
     },
     "execution_count": 33,
     "metadata": {},
     "output_type": "execute_result"
    },
    {
     "data": {
      "image/png": "[encoded data removed]",
      "text/plain": [
       "<Figure size 640x480 with 1 Axes>"
      ]
     },
     "metadata": {},
     "output_type": "display_data"
    }
   ],
   "source": [
    "sns.heatmap(df.isnull(), cbar=False, cmap='viridis')"
   ]
  },
  {
   "cell_type": "code",
   "execution_count": 34,
   "id": "a31b9cac-104e-412f-9910-227821774267",
   "metadata": {},
   "outputs": [],
   "source": [
    "cols_to_impute_with_mode = ['FirstTimeHomebuyer', 'SellerName', 'PPM', 'PropertyType']\n",
    "cols_to_impute_with_mean = ['MSA', 'DTI', 'CreditScore', 'NumBorrowers', 'LTV']\n",
    "for col in cols_to_impute_with_mode:\n",
    "    df[col].fillna(df[col].mode().iloc[0],inplace=True)\n",
    "\n",
    "for col in cols_to_impute_with_mean:\n",
    "    df[col]=pd.to_numeric(df[col])\n",
    "    df[col].fillna(df[col].mean(),inplace=True)"
   ]
  },
  {
   "cell_type": "code",
   "execution_count": 35,
   "id": "89911e14-4c16-4c5a-91d3-15189de11b41",
   "metadata": {},
   "outputs": [
    {
     "data": {
      "text/plain": [
       "PostalCode            6\n",
       "EverDelinquent        0\n",
       "LoanSeqNum            0\n",
       "LoanPurpose           0\n",
       "OrigLoanTerm          0\n",
       "NumBorrowers          0\n",
       "SellerName            0\n",
       "ServicerName          0\n",
       "CreditScore           0\n",
       "FirstPaymentDate      0\n",
       "MonthsInRepayment     0\n",
       "FirstPaymentYear      0\n",
       "FirstPaymentMonth     0\n",
       "C_FirstPaymentDate    0\n",
       "Maturity_Year         0\n",
       "Maturity_Month        0\n",
       "MonthsDelinquent      0\n",
       "PropertyType          0\n",
       "PropertyState         0\n",
       "ProductType           0\n",
       "PPM                   0\n",
       "Channel               0\n",
       "OrigInterestRate      0\n",
       "LTV                   0\n",
       "OrigUPB               0\n",
       "DTI                   0\n",
       "OCLTV                 0\n",
       "Occupancy             0\n",
       "Units                 0\n",
       "MIP                   0\n",
       "MSA                   0\n",
       "MaturityDate          0\n",
       "FirstTimeHomebuyer    0\n",
       "C_MaturityDate        0\n",
       "dtype: int64"
      ]
     },
     "execution_count": 35,
     "metadata": {},
     "output_type": "execute_result"
    }
   ],
   "source": [
    "df.isnull().sum().sort_values(ascending=False)"
   ]
  },
  {
   "cell_type": "code",
   "execution_count": 36,
   "id": "5ad9438c-7082-4044-b6e8-22d0b98bffdd",
   "metadata": {},
   "outputs": [
    {
     "data": {
      "text/plain": [
       "Index(['CreditScore', 'FirstPaymentDate', 'FirstTimeHomebuyer', 'MaturityDate',\n",
       "       'MSA', 'MIP', 'Units', 'Occupancy', 'OCLTV', 'DTI', 'OrigUPB', 'LTV',\n",
       "       'OrigInterestRate', 'Channel', 'PPM', 'ProductType', 'PropertyState',\n",
       "       'PropertyType', 'PostalCode', 'LoanSeqNum', 'LoanPurpose',\n",
       "       'OrigLoanTerm', 'NumBorrowers', 'SellerName', 'ServicerName',\n",
       "       'EverDelinquent', 'MonthsDelinquent', 'MonthsInRepayment',\n",
       "       'FirstPaymentYear', 'FirstPaymentMonth', 'C_FirstPaymentDate',\n",
       "       'Maturity_Year', 'Maturity_Month', 'C_MaturityDate'],\n",
       "      dtype='object')"
      ]
     },
     "execution_count": 36,
     "metadata": {},
     "output_type": "execute_result"
    }
   ],
   "source": [
    "df.columns"
   ]
  },
  {
   "cell_type": "code",
   "execution_count": 37,
   "id": "1fc31445-fd2d-424a-9161-560116691f12",
   "metadata": {},
   "outputs": [],
   "source": [
    "df.drop('FirstPaymentDate', axis=1, inplace=True)\n",
    "df.drop('MaturityDate', axis=1, inplace=True)\n",
    "df.drop(df[df['Units'] == 0].index, inplace=True)\n",
    "df.drop(['ProductType', 'PostalCode', 'LoanSeqNum'], axis = 1, inplace=True)"
   ]
  },
  {
   "cell_type": "code",
   "execution_count": 38,
   "id": "84fbad48-3bc0-430c-b420-7793fa51a01b",
   "metadata": {},
   "outputs": [],
   "source": [
    "df['MSA']=df['MSA'].astype(int)"
   ]
  },
  {
   "cell_type": "code",
   "execution_count": 39,
   "id": "398a5345-460e-4a8a-b47b-363c8d3e40c0",
   "metadata": {},
   "outputs": [],
   "source": [
    "df['NumBorrowers']=df['NumBorrowers'].astype(int)"
   ]
  },
  {
   "cell_type": "code",
   "execution_count": 40,
   "id": "dc3b3872-1c21-49c1-a366-a8036c997526",
   "metadata": {},
   "outputs": [],
   "source": [
    "df['FirstTimeHomebuyer']=df['FirstTimeHomebuyer'].map({'N':0,'Y':1}).astype(int)\n",
    "df['PPM']=df['PPM'].map({'N':0,'Y':1}).astype(int)"
   ]
  },
  {
   "cell_type": "code",
   "execution_count": 41,
   "id": "485efabf-eac6-4b5a-a4c1-2faac8d8536e",
   "metadata": {},
   "outputs": [],
   "source": [
    "df['ServicerName'] = df['ServicerName'].map(str.strip)"
   ]
  },
  {
   "cell_type": "code",
   "execution_count": 42,
   "id": "eb630dc0-11f7-4ae2-b1bd-3db28efcf71b",
   "metadata": {},
   "outputs": [],
   "source": [
    "df[['ServicerName']] = df[['ServicerName']].replace(dict.fromkeys(['COUNTRYWIDE',\n",
    "                                                                       'BANKOFAMERICANA',\n",
    "                                                                       'WASHINGTONMUTUALBANK',\n",
    "                                                                       'CHASEMANHATTANMTGECO',\n",
    "                                                                       'ABNAMROMTGEGROUPINC',\n",
    "                                                                       'WELLSFARGOHOMEMORTGA',\n",
    "                                                                       'GMACMTGECORP',\n",
    "                                                                       'CHASEMTGECO',\n",
    "                                                                       'NATLCITYMTGECO',\n",
    "                                                                       'WELLSFARGOBANKNA',\n",
    "                                                                       'JPMORGANCHASEBANKNA',\n",
    "                                                                       'SUNTRUSTMORTGAGEINC',\n",
    "                                                                       'CITIMORTGAGEINC'],     'Major Banks'))\n",
    "\n",
    "df[['ServicerName']] = df[['ServicerName']].replace(dict.fromkeys(['BAMORTGAGELLC',\n",
    "                                                                       'FTMTGESERVICESINC',\n",
    "                                                                       'PRINCIPALRESIDENTIAL',\n",
    "                                                                       'CHASEHOMEFINANCELLC',\n",
    "                                                                       'HOMESIDELENDINGINC'],  'Non-Bank Servicers'))\n",
    "\n",
    "df[['ServicerName']] = df[['ServicerName']].replace(dict.fromkeys(['Other servicers',\n",
    "                                                                       'FIFTHTHIRDBANK'],      'Other Servicers'))"
   ]
  },
  {
   "cell_type": "code",
   "execution_count": 43,
   "id": "977c24fa-871f-4876-adac-b84203683f55",
   "metadata": {},
   "outputs": [
    {
     "data": {
      "text/plain": [
       "array(['Major Banks', 'Non-Bank Servicers', 'Other Servicers'],\n",
       "      dtype=object)"
      ]
     },
     "execution_count": 43,
     "metadata": {},
     "output_type": "execute_result"
    }
   ],
   "source": [
    "df['ServicerName'].unique()"
   ]
  },
  {
   "cell_type": "code",
   "execution_count": 44,
   "id": "6b024433-63e1-4d51-bb50-fe99fdf87df5",
   "metadata": {},
   "outputs": [],
   "source": [
    "df[['PropertyState']] = df[['PropertyState']].replace(dict.fromkeys(['NY', 'PA', 'NJ', 'MA', 'CT', 'RI'],     \n",
    "                                                                        'Northeast'))\n",
    "df[['PropertyState']] = df[['PropertyState']].replace(dict.fromkeys(['FL', 'TX', 'GA', 'NC', 'VA', 'SC', 'AL', 'KY', 'TN', 'MS', 'LA'],  \n",
    "                                                                        'South'))\n",
    "df[['PropertyState']] = df[['PropertyState']].replace(dict.fromkeys(['CA', 'WA', 'OR'],      \n",
    "                                                                        'West Coast'))\n",
    "df[['PropertyState']] = df[['PropertyState']].replace(dict.fromkeys(['MI', 'IL', 'OH', 'IN', 'MO', 'MN', 'WI', 'IA'], \n",
    "                                                                        'Midwest'))\n",
    "df[['PropertyState']] = df[['PropertyState']].replace(dict.fromkeys(['CO', 'AZ', 'MD', 'UT', 'NV', 'KS', 'ID', 'NM', 'OK', 'NE', 'NH', 'VT', 'AR', 'MT', 'DE', 'ME', 'PR', 'HI', 'WV', 'WY', 'DC', 'SD', 'ND', 'AK', 'GU'], \n",
    "                                                                        'Others'))"
   ]
  },
  {
   "cell_type": "code",
   "execution_count": 45,
   "id": "ce4693d9-11eb-4577-9529-64563add11e8",
   "metadata": {},
   "outputs": [
    {
     "data": {
      "text/plain": [
       "array(['Midwest', 'Others', 'West Coast', 'Northeast', 'South'],\n",
       "      dtype=object)"
      ]
     },
     "execution_count": 45,
     "metadata": {},
     "output_type": "execute_result"
    }
   ],
   "source": [
    "df.PropertyState.unique()"
   ]
  },
  {
   "cell_type": "code",
   "execution_count": 46,
   "id": "c6d98782-9b1f-4429-b118-7cea3a525599",
   "metadata": {},
   "outputs": [],
   "source": [
    "df.to_csv(\"Preprocessed_Data_Improved_By_VASU_N1.csv\")"
   ]
  },
  {
   "cell_type": "code",
   "execution_count": null,
   "id": "2c0692ea-13fd-4c86-a6be-84673513e82f",
   "metadata": {},
   "outputs": [],
   "source": []
  }
 ],
 "metadata": {
  "kernelspec": {
   "display_name": "Python 3 (ipykernel)",
   "language": "python",
   "name": "python3"
  },
  "language_info": {
   "codemirror_mode": {
    "name": "ipython",
    "version": 3
   },
   "file_extension": ".py",
   "mimetype": "text/x-python",
   "name": "python",
   "nbconvert_exporter": "python",
   "pygments_lexer": "ipython3",
   "version": "3.11.7"
  }
 },
 "nbformat": 4,
 "nbformat_minor": 5
}
